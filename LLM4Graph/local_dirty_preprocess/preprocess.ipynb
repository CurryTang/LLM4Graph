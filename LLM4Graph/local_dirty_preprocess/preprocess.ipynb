{
 "cells": [
  {
   "cell_type": "code",
   "execution_count": null,
   "metadata": {},
   "outputs": [],
   "source": [
    "import torch\n",
    "import os.path as osp\n",
    "import pyarrow as pa\n",
    "\n",
    "data_path = \"/mnt/home/chenzh85/LLMGNN/data\"\n",
    "data_name = ['cora', 'citeseer', 'pubmed', 'wikics', 'arxiv', 'products']\n",
    "\n",
    "for name in data_name:\n",
    "    prefix = name\n",
    "    filename = osp.join(data_path, \"{}_fixed_sbert.pt\")\n",
    "    \n",
    "\n",
    "\n",
    "\n"
   ]
  }
 ],
 "metadata": {
  "kernelspec": {
   "display_name": "acl24",
   "language": "python",
   "name": "python3"
  },
  "language_info": {
   "name": "python",
   "version": "3.10.10"
  }
 },
 "nbformat": 4,
 "nbformat_minor": 2
}
